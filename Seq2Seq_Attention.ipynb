{
  "nbformat": 4,
  "nbformat_minor": 0,
  "metadata": {
    "colab": {
      "provenance": [],
      "authorship_tag": "ABX9TyPCCtJqf5O2/Dw1rxlZbJC2",
      "include_colab_link": true
    },
    "kernelspec": {
      "name": "python3",
      "display_name": "Python 3"
    },
    "language_info": {
      "name": "python"
    }
  },
  "cells": [
    {
      "cell_type": "markdown",
      "metadata": {
        "id": "view-in-github",
        "colab_type": "text"
      },
      "source": [
        "<a href=\"https://colab.research.google.com/github/Aswin-Cheerngodan/RNN/blob/main/Seq2Seq_Attention.ipynb\" target=\"_parent\"><img src=\"https://colab.research.google.com/assets/colab-badge.svg\" alt=\"Open In Colab\"/></a>"
      ]
    },
    {
      "cell_type": "code",
      "execution_count": 1,
      "metadata": {
        "id": "LQkhnlBWshC2"
      },
      "outputs": [],
      "source": [
        "from tensorflow.keras.preprocessing.text import Tokenizer\n",
        "from tensorflow.keras.preprocessing.sequence import pad_sequences\n",
        "import numpy as np"
      ]
    },
    {
      "cell_type": "code",
      "source": [
        "def data_preprocessor(source_sentences,target_sentences):\n",
        "    source_tokenizer = Tokenizer()\n",
        "    source_tokenizer.fit_on_texts(source_sentences)\n",
        "    source_sequences = source_tokenizer.texts_to_sequences(source_sentences)\n",
        "    source_padded  = pad_sequences(source_sequences,padding='post')\n",
        "\n",
        "    target_sentences = [\"start \" + sentence + \" end\" for sentence in target_sentences]\n",
        "\n",
        "    target_tokenizer = Tokenizer()\n",
        "    target_tokenizer.fit_on_texts(target_sentences)\n",
        "    target_sequences = target_tokenizer.texts_to_sequences(target_sentences)\n",
        "    target_padded = pad_sequences(target_sequences,padding='post')\n",
        "\n",
        "    return source_padded,target_padded,source_tokenizer,target_tokenizer\n",
        "\n",
        "\n",
        "english_sentences = ['hello', 'world', 'how are you', 'I am fine', 'have a good day']\n",
        "spanish_sentences = ['hola', 'mundo', 'cómo estás', 'estoy bien', 'ten un buen día']\n",
        "input_texs,target_texts,source_tokenizer,target_tokenizer= data_preprocessor(\n",
        "    english_sentences,\n",
        "    spanish_sentences\n",
        ")\n"
      ],
      "metadata": {
        "id": "AAFOpG8NtC_A"
      },
      "execution_count": 21,
      "outputs": []
    },
    {
      "cell_type": "code",
      "source": [
        "from tensorflow.keras.layers import Input,LSTM,Dense,Embedding,Concatenate\n",
        "from tensorflow.keras.layers import AdditiveAttention as Attention\n",
        "from tensorflow.keras.models import Model"
      ],
      "metadata": {
        "id": "XC2MNHC7uy8X"
      },
      "execution_count": 22,
      "outputs": []
    },
    {
      "cell_type": "code",
      "source": [
        "embedding_dim = 256\n",
        "latent_dim = 512\n",
        "num_encoder_tokens = len(source_tokenizer.word_index)+1\n",
        "num_decoder_tokens = len(target_tokenizer.word_index)+1\n",
        "\n",
        "#Encoder\n",
        "encoder_inputs = Input(shape=(None,))\n",
        "encoder_embedding = Embedding(num_encoder_tokens,embedding_dim)(encoder_inputs)\n",
        "encoder_lstm = LSTM(latent_dim,return_state=True)\n",
        "encoder_outputs, state_h,state_c = encoder_lstm(encoder_embedding)\n",
        "encoder_states = [state_h,state_c]\n",
        "\n",
        "#Decoder\n",
        "decoder_inputs = Input(shape=(None,))\n",
        "decoder_embedding = Embedding(num_decoder_tokens,embedding_dim)(decoder_inputs)\n",
        "decoder_lstm = LSTM(latent_dim,return_sequences=True,return_state=True)\n",
        "decoder_outputs, _,_ = decoder_lstm(decoder_embedding,initial_state=encoder_states)\n",
        "\n",
        "#Attention layer\n",
        "attention = Attention()\n",
        "attention_output = attention([decoder_outputs,encoder_outputs])\n",
        "\n",
        "decoder_concat_input = Concatenate(axis=-1)([decoder_outputs,attention_output])\n",
        "\n",
        "#Dense Layer\n",
        "decoder_dense = Dense(num_decoder_tokens,activation='softmax')\n",
        "decoder_outputs = decoder_dense(decoder_concat_input)\n",
        "\n",
        "#MODEL\n",
        "model = Model([encoder_inputs,decoder_inputs],decoder_outputs)\n",
        "model.compile(optimizer='adam',loss='categorical_crossentropy',metrics=['accuracy'])"
      ],
      "metadata": {
        "id": "ZlXHE4PKvL-H"
      },
      "execution_count": 23,
      "outputs": []
    },
    {
      "cell_type": "code",
      "source": [
        "from tensorflow.keras.utils import to_categorical\n",
        "decoder_target_data = to_categorical(target_texts,num_decoder_tokens)\n",
        "model.fit([input_texs,target_texts],decoder_target_data,batch_size=64,epochs=50,\n",
        "          validation_split=0.2)"
      ],
      "metadata": {
        "colab": {
          "base_uri": "https://localhost:8080/"
        },
        "id": "4qCs1kD-yep2",
        "outputId": "32230607-4c48-4c05-94c7-0b3ade4f2871"
      },
      "execution_count": 24,
      "outputs": [
        {
          "output_type": "stream",
          "name": "stdout",
          "text": [
            "Epoch 1/50\n",
            "\u001b[1m1/1\u001b[0m \u001b[32m━━━━━━━━━━━━━━━━━━━━\u001b[0m\u001b[37m\u001b[0m \u001b[1m6s\u001b[0m 6s/step - accuracy: 0.0833 - loss: 2.5606 - val_accuracy: 0.0000e+00 - val_loss: 2.5653\n",
            "Epoch 2/50\n",
            "\u001b[1m1/1\u001b[0m \u001b[32m━━━━━━━━━━━━━━━━━━━━\u001b[0m\u001b[37m\u001b[0m \u001b[1m1s\u001b[0m 657ms/step - accuracy: 0.4167 - loss: 2.4782 - val_accuracy: 0.0000e+00 - val_loss: 2.5647\n",
            "Epoch 3/50\n",
            "\u001b[1m1/1\u001b[0m \u001b[32m━━━━━━━━━━━━━━━━━━━━\u001b[0m\u001b[37m\u001b[0m \u001b[1m0s\u001b[0m 274ms/step - accuracy: 0.4167 - loss: 2.3818 - val_accuracy: 0.0000e+00 - val_loss: 2.5651\n",
            "Epoch 4/50\n",
            "\u001b[1m1/1\u001b[0m \u001b[32m━━━━━━━━━━━━━━━━━━━━\u001b[0m\u001b[37m\u001b[0m \u001b[1m0s\u001b[0m 316ms/step - accuracy: 0.4167 - loss: 2.2492 - val_accuracy: 0.0000e+00 - val_loss: 2.5676\n",
            "Epoch 5/50\n",
            "\u001b[1m1/1\u001b[0m \u001b[32m━━━━━━━━━━━━━━━━━━━━\u001b[0m\u001b[37m\u001b[0m \u001b[1m1s\u001b[0m 589ms/step - accuracy: 0.4167 - loss: 2.0552 - val_accuracy: 0.0000e+00 - val_loss: 2.5746\n",
            "Epoch 6/50\n",
            "\u001b[1m1/1\u001b[0m \u001b[32m━━━━━━━━━━━━━━━━━━━━\u001b[0m\u001b[37m\u001b[0m \u001b[1m0s\u001b[0m 345ms/step - accuracy: 0.4167 - loss: 1.7920 - val_accuracy: 0.0000e+00 - val_loss: 2.5930\n",
            "Epoch 7/50\n",
            "\u001b[1m1/1\u001b[0m \u001b[32m━━━━━━━━━━━━━━━━━━━━\u001b[0m\u001b[37m\u001b[0m \u001b[1m1s\u001b[0m 698ms/step - accuracy: 0.4167 - loss: 1.5783 - val_accuracy: 0.0000e+00 - val_loss: 2.6361\n",
            "Epoch 8/50\n",
            "\u001b[1m1/1\u001b[0m \u001b[32m━━━━━━━━━━━━━━━━━━━━\u001b[0m\u001b[37m\u001b[0m \u001b[1m1s\u001b[0m 646ms/step - accuracy: 0.4167 - loss: 1.6136 - val_accuracy: 0.0000e+00 - val_loss: 2.6634\n",
            "Epoch 9/50\n",
            "\u001b[1m1/1\u001b[0m \u001b[32m━━━━━━━━━━━━━━━━━━━━\u001b[0m\u001b[37m\u001b[0m \u001b[1m0s\u001b[0m 412ms/step - accuracy: 0.4167 - loss: 1.5730 - val_accuracy: 0.1667 - val_loss: 2.6519\n",
            "Epoch 10/50\n",
            "\u001b[1m1/1\u001b[0m \u001b[32m━━━━━━━━━━━━━━━━━━━━\u001b[0m\u001b[37m\u001b[0m \u001b[1m0s\u001b[0m 431ms/step - accuracy: 0.4167 - loss: 1.4172 - val_accuracy: 0.1667 - val_loss: 2.6177\n",
            "Epoch 11/50\n",
            "\u001b[1m1/1\u001b[0m \u001b[32m━━━━━━━━━━━━━━━━━━━━\u001b[0m\u001b[37m\u001b[0m \u001b[1m0s\u001b[0m 420ms/step - accuracy: 0.5833 - loss: 1.2869 - val_accuracy: 0.1667 - val_loss: 2.5855\n",
            "Epoch 12/50\n",
            "\u001b[1m1/1\u001b[0m \u001b[32m━━━━━━━━━━━━━━━━━━━━\u001b[0m\u001b[37m\u001b[0m \u001b[1m1s\u001b[0m 551ms/step - accuracy: 0.6667 - loss: 1.2557 - val_accuracy: 0.1667 - val_loss: 2.5712\n",
            "Epoch 13/50\n",
            "\u001b[1m1/1\u001b[0m \u001b[32m━━━━━━━━━━━━━━━━━━━━\u001b[0m\u001b[37m\u001b[0m \u001b[1m1s\u001b[0m 511ms/step - accuracy: 0.6667 - loss: 1.2706 - val_accuracy: 0.1667 - val_loss: 2.5786\n",
            "Epoch 14/50\n",
            "\u001b[1m1/1\u001b[0m \u001b[32m━━━━━━━━━━━━━━━━━━━━\u001b[0m\u001b[37m\u001b[0m \u001b[1m0s\u001b[0m 316ms/step - accuracy: 0.6667 - loss: 1.2270 - val_accuracy: 0.1667 - val_loss: 2.6110\n",
            "Epoch 15/50\n",
            "\u001b[1m1/1\u001b[0m \u001b[32m━━━━━━━━━━━━━━━━━━━━\u001b[0m\u001b[37m\u001b[0m \u001b[1m0s\u001b[0m 319ms/step - accuracy: 0.6667 - loss: 1.1364 - val_accuracy: 0.1667 - val_loss: 2.6819\n",
            "Epoch 16/50\n",
            "\u001b[1m1/1\u001b[0m \u001b[32m━━━━━━━━━━━━━━━━━━━━\u001b[0m\u001b[37m\u001b[0m \u001b[1m1s\u001b[0m 517ms/step - accuracy: 0.7500 - loss: 1.0527 - val_accuracy: 0.1667 - val_loss: 2.8068\n",
            "Epoch 17/50\n",
            "\u001b[1m1/1\u001b[0m \u001b[32m━━━━━━━━━━━━━━━━━━━━\u001b[0m\u001b[37m\u001b[0m \u001b[1m0s\u001b[0m 267ms/step - accuracy: 0.7083 - loss: 1.0046 - val_accuracy: 0.1667 - val_loss: 2.9733\n",
            "Epoch 18/50\n",
            "\u001b[1m1/1\u001b[0m \u001b[32m━━━━━━━━━━━━━━━━━━━━\u001b[0m\u001b[37m\u001b[0m \u001b[1m0s\u001b[0m 330ms/step - accuracy: 0.6667 - loss: 0.9846 - val_accuracy: 0.1667 - val_loss: 3.1204\n",
            "Epoch 19/50\n",
            "\u001b[1m1/1\u001b[0m \u001b[32m━━━━━━━━━━━━━━━━━━━━\u001b[0m\u001b[37m\u001b[0m \u001b[1m0s\u001b[0m 262ms/step - accuracy: 0.6667 - loss: 0.9598 - val_accuracy: 0.1667 - val_loss: 3.1821\n",
            "Epoch 20/50\n",
            "\u001b[1m1/1\u001b[0m \u001b[32m━━━━━━━━━━━━━━━━━━━━\u001b[0m\u001b[37m\u001b[0m \u001b[1m0s\u001b[0m 265ms/step - accuracy: 0.6667 - loss: 0.9074 - val_accuracy: 0.1667 - val_loss: 3.1483\n",
            "Epoch 21/50\n",
            "\u001b[1m1/1\u001b[0m \u001b[32m━━━━━━━━━━━━━━━━━━━━\u001b[0m\u001b[37m\u001b[0m \u001b[1m0s\u001b[0m 278ms/step - accuracy: 0.7500 - loss: 0.8370 - val_accuracy: 0.1667 - val_loss: 3.0661\n",
            "Epoch 22/50\n",
            "\u001b[1m1/1\u001b[0m \u001b[32m━━━━━━━━━━━━━━━━━━━━\u001b[0m\u001b[37m\u001b[0m \u001b[1m0s\u001b[0m 263ms/step - accuracy: 0.7500 - loss: 0.7756 - val_accuracy: 0.1667 - val_loss: 3.0023\n",
            "Epoch 23/50\n",
            "\u001b[1m1/1\u001b[0m \u001b[32m━━━━━━━━━━━━━━━━━━━━\u001b[0m\u001b[37m\u001b[0m \u001b[1m0s\u001b[0m 224ms/step - accuracy: 0.7500 - loss: 0.7344 - val_accuracy: 0.1667 - val_loss: 3.0155\n",
            "Epoch 24/50\n",
            "\u001b[1m1/1\u001b[0m \u001b[32m━━━━━━━━━━━━━━━━━━━━\u001b[0m\u001b[37m\u001b[0m \u001b[1m0s\u001b[0m 412ms/step - accuracy: 0.7500 - loss: 0.6988 - val_accuracy: 0.1667 - val_loss: 3.1540\n",
            "Epoch 25/50\n",
            "\u001b[1m1/1\u001b[0m \u001b[32m━━━━━━━━━━━━━━━━━━━━\u001b[0m\u001b[37m\u001b[0m \u001b[1m0s\u001b[0m 426ms/step - accuracy: 0.7917 - loss: 0.6443 - val_accuracy: 0.1667 - val_loss: 3.4543\n",
            "Epoch 26/50\n",
            "\u001b[1m1/1\u001b[0m \u001b[32m━━━━━━━━━━━━━━━━━━━━\u001b[0m\u001b[37m\u001b[0m \u001b[1m0s\u001b[0m 226ms/step - accuracy: 0.8333 - loss: 0.5831 - val_accuracy: 0.1667 - val_loss: 3.8952\n",
            "Epoch 27/50\n",
            "\u001b[1m1/1\u001b[0m \u001b[32m━━━━━━━━━━━━━━━━━━━━\u001b[0m\u001b[37m\u001b[0m \u001b[1m0s\u001b[0m 355ms/step - accuracy: 0.8333 - loss: 0.5399 - val_accuracy: 0.1667 - val_loss: 4.3624\n",
            "Epoch 28/50\n",
            "\u001b[1m1/1\u001b[0m \u001b[32m━━━━━━━━━━━━━━━━━━━━\u001b[0m\u001b[37m\u001b[0m \u001b[1m1s\u001b[0m 539ms/step - accuracy: 0.8333 - loss: 0.5071 - val_accuracy: 0.1667 - val_loss: 4.7250\n",
            "Epoch 29/50\n",
            "\u001b[1m1/1\u001b[0m \u001b[32m━━━━━━━━━━━━━━━━━━━━\u001b[0m\u001b[37m\u001b[0m \u001b[1m0s\u001b[0m 338ms/step - accuracy: 0.8333 - loss: 0.4665 - val_accuracy: 0.1667 - val_loss: 4.9332\n",
            "Epoch 30/50\n",
            "\u001b[1m1/1\u001b[0m \u001b[32m━━━━━━━━━━━━━━━━━━━━\u001b[0m\u001b[37m\u001b[0m \u001b[1m0s\u001b[0m 251ms/step - accuracy: 0.8333 - loss: 0.4167 - val_accuracy: 0.1667 - val_loss: 5.0384\n",
            "Epoch 31/50\n",
            "\u001b[1m1/1\u001b[0m \u001b[32m━━━━━━━━━━━━━━━━━━━━\u001b[0m\u001b[37m\u001b[0m \u001b[1m0s\u001b[0m 267ms/step - accuracy: 0.9167 - loss: 0.3736 - val_accuracy: 0.1667 - val_loss: 5.1575\n",
            "Epoch 32/50\n",
            "\u001b[1m1/1\u001b[0m \u001b[32m━━━━━━━━━━━━━━━━━━━━\u001b[0m\u001b[37m\u001b[0m \u001b[1m0s\u001b[0m 222ms/step - accuracy: 0.9167 - loss: 0.3472 - val_accuracy: 0.1667 - val_loss: 5.4254\n",
            "Epoch 33/50\n",
            "\u001b[1m1/1\u001b[0m \u001b[32m━━━━━━━━━━━━━━━━━━━━\u001b[0m\u001b[37m\u001b[0m \u001b[1m0s\u001b[0m 234ms/step - accuracy: 0.9167 - loss: 0.3209 - val_accuracy: 0.1667 - val_loss: 5.8984\n",
            "Epoch 34/50\n",
            "\u001b[1m1/1\u001b[0m \u001b[32m━━━━━━━━━━━━━━━━━━━━\u001b[0m\u001b[37m\u001b[0m \u001b[1m0s\u001b[0m 403ms/step - accuracy: 1.0000 - loss: 0.2814 - val_accuracy: 0.1667 - val_loss: 6.4871\n",
            "Epoch 35/50\n",
            "\u001b[1m1/1\u001b[0m \u001b[32m━━━━━━━━━━━━━━━━━━━━\u001b[0m\u001b[37m\u001b[0m \u001b[1m0s\u001b[0m 288ms/step - accuracy: 1.0000 - loss: 0.2483 - val_accuracy: 0.1667 - val_loss: 7.0047\n",
            "Epoch 36/50\n",
            "\u001b[1m1/1\u001b[0m \u001b[32m━━━━━━━━━━━━━━━━━━━━\u001b[0m\u001b[37m\u001b[0m \u001b[1m0s\u001b[0m 278ms/step - accuracy: 1.0000 - loss: 0.2307 - val_accuracy: 0.1667 - val_loss: 7.2597\n",
            "Epoch 37/50\n",
            "\u001b[1m1/1\u001b[0m \u001b[32m━━━━━━━━━━━━━━━━━━━━\u001b[0m\u001b[37m\u001b[0m \u001b[1m0s\u001b[0m 308ms/step - accuracy: 1.0000 - loss: 0.2112 - val_accuracy: 0.1667 - val_loss: 7.2412\n",
            "Epoch 38/50\n",
            "\u001b[1m1/1\u001b[0m \u001b[32m━━━━━━━━━━━━━━━━━━━━\u001b[0m\u001b[37m\u001b[0m \u001b[1m1s\u001b[0m 522ms/step - accuracy: 1.0000 - loss: 0.1844 - val_accuracy: 0.1667 - val_loss: 7.1225\n",
            "Epoch 39/50\n",
            "\u001b[1m1/1\u001b[0m \u001b[32m━━━━━━━━━━━━━━━━━━━━\u001b[0m\u001b[37m\u001b[0m \u001b[1m0s\u001b[0m 488ms/step - accuracy: 1.0000 - loss: 0.1646 - val_accuracy: 0.1667 - val_loss: 7.1077\n",
            "Epoch 40/50\n",
            "\u001b[1m1/1\u001b[0m \u001b[32m━━━━━━━━━━━━━━━━━━━━\u001b[0m\u001b[37m\u001b[0m \u001b[1m0s\u001b[0m 282ms/step - accuracy: 1.0000 - loss: 0.1499 - val_accuracy: 0.1667 - val_loss: 7.3162\n",
            "Epoch 41/50\n",
            "\u001b[1m1/1\u001b[0m \u001b[32m━━━━━━━━━━━━━━━━━━━━\u001b[0m\u001b[37m\u001b[0m \u001b[1m0s\u001b[0m 295ms/step - accuracy: 1.0000 - loss: 0.1322 - val_accuracy: 0.1667 - val_loss: 7.6903\n",
            "Epoch 42/50\n",
            "\u001b[1m1/1\u001b[0m \u001b[32m━━━━━━━━━━━━━━━━━━━━\u001b[0m\u001b[37m\u001b[0m \u001b[1m1s\u001b[0m 719ms/step - accuracy: 1.0000 - loss: 0.1159 - val_accuracy: 0.1667 - val_loss: 8.0599\n",
            "Epoch 43/50\n",
            "\u001b[1m1/1\u001b[0m \u001b[32m━━━━━━━━━━━━━━━━━━━━\u001b[0m\u001b[37m\u001b[0m \u001b[1m1s\u001b[0m 653ms/step - accuracy: 1.0000 - loss: 0.1055 - val_accuracy: 0.1667 - val_loss: 8.2743\n",
            "Epoch 44/50\n",
            "\u001b[1m1/1\u001b[0m \u001b[32m━━━━━━━━━━━━━━━━━━━━\u001b[0m\u001b[37m\u001b[0m \u001b[1m1s\u001b[0m 603ms/step - accuracy: 1.0000 - loss: 0.0953 - val_accuracy: 0.1667 - val_loss: 8.2832\n",
            "Epoch 45/50\n",
            "\u001b[1m1/1\u001b[0m \u001b[32m━━━━━━━━━━━━━━━━━━━━\u001b[0m\u001b[37m\u001b[0m \u001b[1m0s\u001b[0m 460ms/step - accuracy: 1.0000 - loss: 0.0818 - val_accuracy: 0.1667 - val_loss: 8.1769\n",
            "Epoch 46/50\n",
            "\u001b[1m1/1\u001b[0m \u001b[32m━━━━━━━━━━━━━━━━━━━━\u001b[0m\u001b[37m\u001b[0m \u001b[1m1s\u001b[0m 599ms/step - accuracy: 1.0000 - loss: 0.0703 - val_accuracy: 0.1667 - val_loss: 8.1119\n",
            "Epoch 47/50\n",
            "\u001b[1m1/1\u001b[0m \u001b[32m━━━━━━━━━━━━━━━━━━━━\u001b[0m\u001b[37m\u001b[0m \u001b[1m0s\u001b[0m 306ms/step - accuracy: 1.0000 - loss: 0.0629 - val_accuracy: 0.1667 - val_loss: 8.2244\n",
            "Epoch 48/50\n",
            "\u001b[1m1/1\u001b[0m \u001b[32m━━━━━━━━━━━━━━━━━━━━\u001b[0m\u001b[37m\u001b[0m \u001b[1m0s\u001b[0m 274ms/step - accuracy: 1.0000 - loss: 0.0544 - val_accuracy: 0.1667 - val_loss: 8.4906\n",
            "Epoch 49/50\n",
            "\u001b[1m1/1\u001b[0m \u001b[32m━━━━━━━━━━━━━━━━━━━━\u001b[0m\u001b[37m\u001b[0m \u001b[1m0s\u001b[0m 264ms/step - accuracy: 1.0000 - loss: 0.0460 - val_accuracy: 0.1667 - val_loss: 8.7897\n",
            "Epoch 50/50\n",
            "\u001b[1m1/1\u001b[0m \u001b[32m━━━━━━━━━━━━━━━━━━━━\u001b[0m\u001b[37m\u001b[0m \u001b[1m0s\u001b[0m 264ms/step - accuracy: 1.0000 - loss: 0.0405 - val_accuracy: 0.1667 - val_loss: 9.0176\n"
          ]
        },
        {
          "output_type": "execute_result",
          "data": {
            "text/plain": [
              "<keras.src.callbacks.history.History at 0x7d1aa59d0350>"
            ]
          },
          "metadata": {},
          "execution_count": 24
        }
      ]
    },
    {
      "cell_type": "code",
      "source": [
        "# Encoder Inference Model\n",
        "encoder_model = Model(encoder_inputs, encoder_states)\n",
        "\n",
        "# Decoder Inference Model\n",
        "decoder_state_input_h = Input(shape=(latent_dim,))\n",
        "decoder_state_input_c = Input(shape=(latent_dim,))\n",
        "decoder_state_inputs = [decoder_state_input_h, decoder_state_input_c]\n",
        "\n",
        "# Fix: Create a new single-word decoder input\n",
        "decoder_input_single = Input(shape=(1,))\n",
        "decoder_embedding_inf = Embedding(num_decoder_tokens, embedding_dim)(decoder_input_single)\n",
        "\n",
        "decoder_outputs, state_h, state_c = decoder_lstm(\n",
        "    decoder_embedding_inf, initial_state=decoder_state_inputs\n",
        ")\n",
        "decoder_states = [state_h, state_c]\n",
        "\n",
        "# Fix: Use a separate Dense layer for inference\n",
        "decoder_dense_inf = Dense(num_decoder_tokens, activation='softmax')\n",
        "decoder_outputs = decoder_dense_inf(decoder_outputs)\n",
        "\n",
        "decoder_model = Model([decoder_input_single] + decoder_state_inputs, [decoder_outputs] + decoder_states)\n"
      ],
      "metadata": {
        "id": "pWjxGXWi2Yq2"
      },
      "execution_count": 25,
      "outputs": []
    },
    {
      "cell_type": "code",
      "source": [
        "\n",
        "def translate(input_text):\n",
        "    # Tokenize and pad the input sequence\n",
        "    input_seq = source_tokenizer.texts_to_sequences([input_text])\n",
        "    input_seq = pad_sequences(input_seq, maxlen=input_texs.shape[1], padding='post')\n",
        "\n",
        "\n",
        "    if len(input_seq[0]) == 0:\n",
        "        return \"Unknown input\"\n",
        "\n",
        "    # Get the encoder states\n",
        "    states_value = encoder_model.predict(input_seq)\n",
        "\n",
        "    # Generate an empty target sequence of length 1\n",
        "    target_seq = np.zeros((1, 1))\n",
        "\n",
        "\n",
        "    target_seq[0, 0] = target_tokenizer.word_index.get('start', 1)\n",
        "\n",
        "    stop_condition = False\n",
        "    decoded_sentence = ''\n",
        "    max_decoder_length = target_texts.shape[1]  # Use actual target length\n",
        "\n",
        "    while not stop_condition:\n",
        "        output_tokens, h, c = decoder_model.predict([target_seq] + states_value)\n",
        "\n",
        "        # Sample a token\n",
        "        sampled_token_index = np.argmax(output_tokens[0, -1, :])\n",
        "\n",
        "        # Handle out-of-vocab cases\n",
        "        if sampled_token_index not in target_tokenizer.index_word:\n",
        "            break\n",
        "\n",
        "        sampled_char = target_tokenizer.index_word[sampled_token_index]\n",
        "        decoded_sentence += ' ' + sampled_char\n",
        "\n",
        "        # Exit condition\n",
        "        if sampled_char == 'end' or len(decoded_sentence.split()) > max_decoder_length:\n",
        "            stop_condition = True\n",
        "\n",
        "        # Update the target sequence (length 1)\n",
        "        target_seq[0, 0] = sampled_token_index\n",
        "\n",
        "        # Update states\n",
        "        states_value = [h, c]\n",
        "\n",
        "    return decoded_sentence.replace(' end', '').strip()  # Remove 'end' token from output\n",
        "\n",
        "# Example usage\n",
        "translated_sentence = translate(\"how are you\")\n",
        "print(translated_sentence)\n"
      ],
      "metadata": {
        "colab": {
          "base_uri": "https://localhost:8080/"
        },
        "id": "GWX92GA35y_8",
        "outputId": "8181dd62-8431-4856-e9a2-b1f7da19d6da"
      },
      "execution_count": 27,
      "outputs": [
        {
          "output_type": "stream",
          "name": "stdout",
          "text": [
            "\u001b[1m1/1\u001b[0m \u001b[32m━━━━━━━━━━━━━━━━━━━━\u001b[0m\u001b[37m\u001b[0m \u001b[1m0s\u001b[0m 48ms/step\n",
            "\u001b[1m1/1\u001b[0m \u001b[32m━━━━━━━━━━━━━━━━━━━━\u001b[0m\u001b[37m\u001b[0m \u001b[1m0s\u001b[0m 52ms/step\n",
            "\u001b[1m1/1\u001b[0m \u001b[32m━━━━━━━━━━━━━━━━━━━━\u001b[0m\u001b[37m\u001b[0m \u001b[1m0s\u001b[0m 51ms/step\n",
            "\u001b[1m1/1\u001b[0m \u001b[32m━━━━━━━━━━━━━━━━━━━━\u001b[0m\u001b[37m\u001b[0m \u001b[1m0s\u001b[0m 52ms/step\n",
            "\u001b[1m1/1\u001b[0m \u001b[32m━━━━━━━━━━━━━━━━━━━━\u001b[0m\u001b[37m\u001b[0m \u001b[1m0s\u001b[0m 53ms/step\n",
            "\u001b[1m1/1\u001b[0m \u001b[32m━━━━━━━━━━━━━━━━━━━━\u001b[0m\u001b[37m\u001b[0m \u001b[1m0s\u001b[0m 57ms/step\n",
            "\u001b[1m1/1\u001b[0m \u001b[32m━━━━━━━━━━━━━━━━━━━━\u001b[0m\u001b[37m\u001b[0m \u001b[1m0s\u001b[0m 43ms/step\n",
            "\u001b[1m1/1\u001b[0m \u001b[32m━━━━━━━━━━━━━━━━━━━━\u001b[0m\u001b[37m\u001b[0m \u001b[1m0s\u001b[0m 42ms/step\n",
            "mundo mundo estás estás bien bien bien\n"
          ]
        }
      ]
    },
    {
      "cell_type": "code",
      "source": [],
      "metadata": {
        "id": "FjO11jtl54g8"
      },
      "execution_count": null,
      "outputs": []
    }
  ]
}