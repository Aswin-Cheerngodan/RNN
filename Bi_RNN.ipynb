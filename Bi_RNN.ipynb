{
  "nbformat": 4,
  "nbformat_minor": 0,
  "metadata": {
    "colab": {
      "provenance": [],
      "gpuType": "V28",
      "authorship_tag": "ABX9TyOYrbbtMSygyyKR7wgfNOmU",
      "include_colab_link": true
    },
    "kernelspec": {
      "name": "python3",
      "display_name": "Python 3"
    },
    "language_info": {
      "name": "python"
    },
    "accelerator": "TPU"
  },
  "cells": [
    {
      "cell_type": "markdown",
      "metadata": {
        "id": "view-in-github",
        "colab_type": "text"
      },
      "source": [
        "<a href=\"https://colab.research.google.com/github/Aswin-Cheerngodan/RNN/blob/main/Bi_RNN.ipynb\" target=\"_parent\"><img src=\"https://colab.research.google.com/assets/colab-badge.svg\" alt=\"Open In Colab\"/></a>"
      ]
    },
    {
      "cell_type": "code",
      "execution_count": 18,
      "metadata": {
        "id": "S4H4LBp4QA2D"
      },
      "outputs": [],
      "source": [
        "import numpy as np\n",
        "from tensorflow.keras.datasets import imdb\n",
        "from tensorflow.keras.models import Sequential\n",
        "from tensorflow.keras.layers import Dense,SimpleRNN,Embedding,Input,Bidirectional\n",
        "from tensorflow.keras.preprocessing.sequence import pad_sequences"
      ]
    },
    {
      "cell_type": "code",
      "source": [
        "features = 5000\n",
        "length = 100\n",
        "\n",
        "(X_train,y_train),(X_test,y_test) = imdb.load_data(num_words=features)"
      ],
      "metadata": {
        "id": "JUckPRi2SwMF"
      },
      "execution_count": 19,
      "outputs": []
    },
    {
      "cell_type": "code",
      "source": [
        "X_train = pad_sequences(X_train,maxlen=length)\n",
        "X_test = pad_sequences(X_test,maxlen=length)"
      ],
      "metadata": {
        "id": "orjHDseyTjLU"
      },
      "execution_count": 20,
      "outputs": []
    },
    {
      "cell_type": "code",
      "source": [
        "model = Sequential([\n",
        "    Input(shape=(length,)),\n",
        "    Embedding(input_dim=features,output_dim=128),\n",
        "    Bidirectional(SimpleRNN(64)),\n",
        "    Dense(1,activation='sigmoid')\n",
        "\n",
        "])"
      ],
      "metadata": {
        "id": "vS_YF5siTxak"
      },
      "execution_count": 21,
      "outputs": []
    },
    {
      "cell_type": "code",
      "source": [
        "model.compile(loss='binary_crossentropy',optimizer='adam',metrics=['accuracy'])"
      ],
      "metadata": {
        "id": "26vmsg7bXSiZ"
      },
      "execution_count": 22,
      "outputs": []
    },
    {
      "cell_type": "code",
      "source": [
        "model.summary()"
      ],
      "metadata": {
        "colab": {
          "base_uri": "https://localhost:8080/"
        },
        "id": "FSIuQbUIVfSU",
        "outputId": "2387cbbb-e030-4a43-c596-5f6ebc3d55d5"
      },
      "execution_count": 23,
      "outputs": [
        {
          "output_type": "stream",
          "name": "stdout",
          "text": [
            "Model: \"sequential_2\"\n",
            "_________________________________________________________________\n",
            " Layer (type)                Output Shape              Param #   \n",
            "=================================================================\n",
            " embedding_2 (Embedding)     (None, 100, 128)          640000    \n",
            "                                                                 \n",
            " bidirectional_2 (Bidirecti  (None, 128)               24704     \n",
            " onal)                                                           \n",
            "                                                                 \n",
            " dense_2 (Dense)             (None, 1)                 129       \n",
            "                                                                 \n",
            "=================================================================\n",
            "Total params: 664833 (2.54 MB)\n",
            "Trainable params: 664833 (2.54 MB)\n",
            "Non-trainable params: 0 (0.00 Byte)\n",
            "_________________________________________________________________\n"
          ]
        }
      ]
    },
    {
      "cell_type": "code",
      "source": [
        "model.fit(X_train,y_train,batch_size=32,epochs=5,validation_split=0.2)"
      ],
      "metadata": {
        "colab": {
          "base_uri": "https://localhost:8080/"
        },
        "id": "MGSCIrPSVhGT",
        "outputId": "bbed4e33-b0e6-4fa4-b822-24bf5a647b04"
      },
      "execution_count": 24,
      "outputs": [
        {
          "output_type": "stream",
          "name": "stdout",
          "text": [
            "Epoch 1/5\n",
            "625/625 [==============================] - 36s 55ms/step - loss: 0.6150 - accuracy: 0.6371 - val_loss: 0.4953 - val_accuracy: 0.7558\n",
            "Epoch 2/5\n",
            "625/625 [==============================] - 34s 54ms/step - loss: 0.4300 - accuracy: 0.8019 - val_loss: 0.4903 - val_accuracy: 0.7726\n",
            "Epoch 3/5\n",
            "625/625 [==============================] - 34s 54ms/step - loss: 0.3021 - accuracy: 0.8747 - val_loss: 0.4801 - val_accuracy: 0.7848\n",
            "Epoch 4/5\n",
            "625/625 [==============================] - 34s 54ms/step - loss: 0.1808 - accuracy: 0.9299 - val_loss: 0.5705 - val_accuracy: 0.7742\n",
            "Epoch 5/5\n",
            "625/625 [==============================] - 34s 54ms/step - loss: 0.0736 - accuracy: 0.9755 - val_loss: 0.7654 - val_accuracy: 0.7754\n"
          ]
        },
        {
          "output_type": "execute_result",
          "data": {
            "text/plain": [
              "<keras.src.callbacks.History at 0x786e681fa470>"
            ]
          },
          "metadata": {},
          "execution_count": 24
        }
      ]
    },
    {
      "cell_type": "code",
      "source": [],
      "metadata": {
        "id": "DzrA9-u3Wt37"
      },
      "execution_count": 24,
      "outputs": []
    }
  ]
}